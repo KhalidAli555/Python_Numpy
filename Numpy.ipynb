{
  "nbformat": 4,
  "nbformat_minor": 0,
  "metadata": {
    "colab": {
      "provenance": []
    },
    "kernelspec": {
      "name": "python3",
      "display_name": "Python 3"
    },
    "language_info": {
      "name": "python"
    }
  },
  "cells": [
    {
      "cell_type": "code",
      "execution_count": null,
      "metadata": {
        "id": "i9XrKuqvIZGg"
      },
      "outputs": [],
      "source": [
        "import numpy as np"
      ]
    },
    {
      "cell_type": "code",
      "source": [
        "l1=[20,30,40,50]\n",
        "l2=[60,70,80]\n",
        "print(l1+l2)"
      ],
      "metadata": {
        "colab": {
          "base_uri": "https://localhost:8080/"
        },
        "id": "QPOR775BIfQZ",
        "outputId": "99a29663-42df-4a18-dad4-7b364f1b5739"
      },
      "execution_count": null,
      "outputs": [
        {
          "output_type": "stream",
          "name": "stdout",
          "text": [
            "[20, 30, 40, 50, 60, 70, 80]\n"
          ]
        }
      ]
    },
    {
      "cell_type": "code",
      "source": [
        "arr1=np.array([10,20,30,100])\n",
        "arr2=np.array([50,60,70,80])\n",
        "# arr2=np.array([4])\n",
        "print(arr1+arr2)"
      ],
      "metadata": {
        "colab": {
          "base_uri": "https://localhost:8080/"
        },
        "id": "IcryB2gRIpR2",
        "outputId": "3909d0f6-6c89-4df3-f5c0-ee3ba5f6bf5f"
      },
      "execution_count": null,
      "outputs": [
        {
          "output_type": "stream",
          "name": "stdout",
          "text": [
            "[ 60  80 100 180]\n"
          ]
        }
      ]
    },
    {
      "cell_type": "markdown",
      "source": [
        "**Array Scilicing**"
      ],
      "metadata": {
        "id": "bL4vT2u7NjN8"
      }
    },
    {
      "cell_type": "code",
      "source": [
        "arr=np.array([[10,20,30,40,50],[60,70,80,90,10]])\n",
        "print(arr[0:2,0:2]) #give output of first two elements of array first and second\n",
        "print(arr[0,1:3]) #slice element of first array and give 20,30 as output\n",
        "print(arr[1,1:3]) #slice element of second array and give 70,80 as output\n"
      ],
      "metadata": {
        "colab": {
          "base_uri": "https://localhost:8080/"
        },
        "id": "frOMG5pnLHRX",
        "outputId": "83981d1e-01f8-4e67-e85c-519ee62add9b"
      },
      "execution_count": null,
      "outputs": [
        {
          "output_type": "stream",
          "name": "stdout",
          "text": [
            "[[10 20]\n",
            " [60 70]]\n",
            "[20 30]\n",
            "[70 80]\n"
          ]
        }
      ]
    },
    {
      "cell_type": "code",
      "source": [
        "arr=np.array([[10,20,30,40,50],[60,70,80,90,10],[20,40,60,80,100]])\n",
        "print(arr[2,1:3])   #slice element of third array and give 40,60 as output"
      ],
      "metadata": {
        "colab": {
          "base_uri": "https://localhost:8080/"
        },
        "id": "TPa2OGqqNxYi",
        "outputId": "648ee754-381d-43dc-979c-645ba931d44e"
      },
      "execution_count": null,
      "outputs": [
        {
          "output_type": "stream",
          "name": "stdout",
          "text": [
            "[40 60]\n"
          ]
        }
      ]
    },
    {
      "cell_type": "markdown",
      "source": [
        "**Shape Attribute**"
      ],
      "metadata": {
        "id": "-L-aItQqQZt9"
      }
    },
    {
      "cell_type": "code",
      "source": [
        "arr=np.array([[10,20,30,40,50],[60,70,80,90,10],[20,40,60,80,100]])\n",
        "print(np.shape(arr))# 3 row and 5 elements in each row(no of rows and columns)\n",
        "print(np.size(arr))   #total elements in array\n",
        "print(np.ndim(arr)) # tow dimention means rows and column\n",
        "print(arr.dtype)  #check datatype of array\n",
        "print(type(arr))  #datatype of variable\n",
        "print(arr.astype(float)) #conversion of datatype"
      ],
      "metadata": {
        "colab": {
          "base_uri": "https://localhost:8080/"
        },
        "id": "9zbqhuvdPr2g",
        "outputId": "17dca51c-d380-4cae-f7c0-02af9f4b1a78"
      },
      "execution_count": null,
      "outputs": [
        {
          "output_type": "stream",
          "name": "stdout",
          "text": [
            "(3, 5)\n",
            "15\n",
            "2\n",
            "int64\n",
            "<class 'numpy.ndarray'>\n",
            "[[ 10.  20.  30.  40.  50.]\n",
            " [ 60.  70.  80.  90.  10.]\n",
            " [ 20.  40.  60.  80. 100.]]\n"
          ]
        }
      ]
    },
    {
      "cell_type": "code",
      "source": [
        "arr=np.array([[10,20,30,40,50],[60,70,80,90,10],[20,40,60,80,100]])\n",
        "print(arr.shape)\n",
        "print(arr.size)\n",
        "print(arr.ndim)\n",
        "print(arr.dtype)\n",
        "print(type(arr))"
      ],
      "metadata": {
        "colab": {
          "base_uri": "https://localhost:8080/"
        },
        "id": "5Eji9GCHQhZ8",
        "outputId": "c524b4c5-8838-45eb-974d-00c245b2b120"
      },
      "execution_count": null,
      "outputs": [
        {
          "output_type": "stream",
          "name": "stdout",
          "text": [
            "(3, 5)\n",
            "15\n",
            "2\n",
            "int64\n",
            "<class 'numpy.ndarray'>\n"
          ]
        }
      ]
    },
    {
      "cell_type": "markdown",
      "source": [
        "**Mathematical operations and function in** **array** **bold text**"
      ],
      "metadata": {
        "id": "57cSI_HtUXkF"
      }
    },
    {
      "cell_type": "code",
      "source": [
        "arr1=np.array([10,20,30,40])\n",
        "arr2=np.array([50,60,70,80])\n",
        "print(arr1+arr2)\n",
        "print(np.add(arr1,arr2))"
      ],
      "metadata": {
        "colab": {
          "base_uri": "https://localhost:8080/"
        },
        "id": "RomvKie6Sejg",
        "outputId": "f583c97d-c785-4fb4-d413-c069ecd57eb9"
      },
      "execution_count": null,
      "outputs": [
        {
          "output_type": "stream",
          "name": "stdout",
          "text": [
            "[ 60  80 100 120]\n",
            "[ 60  80 100 120]\n"
          ]
        }
      ]
    },
    {
      "cell_type": "code",
      "source": [
        "arr1=np.array([10,20,30,40])\n",
        "arr2=np.array([50,60,70,80])\n",
        "print(arr1-arr2)\n",
        "print(np.subtract(arr1,arr2))"
      ],
      "metadata": {
        "colab": {
          "base_uri": "https://localhost:8080/"
        },
        "id": "qRt6w6chWpNT",
        "outputId": "a29f57a0-272e-47d5-8081-7c6ced07b2fd"
      },
      "execution_count": null,
      "outputs": [
        {
          "output_type": "stream",
          "name": "stdout",
          "text": [
            "[-40 -40 -40 -40]\n",
            "[-40 -40 -40 -40]\n"
          ]
        }
      ]
    },
    {
      "cell_type": "code",
      "source": [
        "arr1=np.array([10,20,30,40])\n",
        "arr2=np.array([50,60,70,80])\n",
        "print(arr1*arr2)\n",
        "print(np.multiply(arr1,arr2))"
      ],
      "metadata": {
        "colab": {
          "base_uri": "https://localhost:8080/"
        },
        "id": "yzCTob8aW1R6",
        "outputId": "cda2383a-1b06-490f-b79d-60a085b0d50b"
      },
      "execution_count": null,
      "outputs": [
        {
          "output_type": "stream",
          "name": "stdout",
          "text": [
            "[ 500 1200 2100 3200]\n",
            "[ 500 1200 2100 3200]\n"
          ]
        }
      ]
    },
    {
      "cell_type": "code",
      "source": [
        "arr1=np.array([10,20,30,40])\n",
        "arr2=np.array([50,60,70,80])\n",
        "print(arr1/arr2)\n",
        "print(np.divide(arr1,arr2))"
      ],
      "metadata": {
        "colab": {
          "base_uri": "https://localhost:8080/"
        },
        "id": "7WhRq0PHXGHt",
        "outputId": "9555d843-bb8a-45e9-ad7e-1ebcac6e77f4"
      },
      "execution_count": null,
      "outputs": [
        {
          "output_type": "stream",
          "name": "stdout",
          "text": [
            "[0.2        0.33333333 0.42857143 0.5       ]\n",
            "[0.2        0.33333333 0.42857143 0.5       ]\n"
          ]
        }
      ]
    },
    {
      "cell_type": "code",
      "source": [
        "arr1=np.array([2,4,6,8])\n",
        "arr2=np.array([2])\n",
        "print(np.power(arr1,arr2))"
      ],
      "metadata": {
        "colab": {
          "base_uri": "https://localhost:8080/"
        },
        "id": "hYXH5aatXJeE",
        "outputId": "71fdc711-2894-447f-82ec-ba46b77204c6"
      },
      "execution_count": null,
      "outputs": [
        {
          "output_type": "stream",
          "name": "stdout",
          "text": [
            "[ 4 16 36 64]\n"
          ]
        }
      ]
    },
    {
      "cell_type": "code",
      "source": [
        "arr1=np.array([4,16,25,36])\n",
        "print(np.sqrt(arr1))"
      ],
      "metadata": {
        "colab": {
          "base_uri": "https://localhost:8080/"
        },
        "id": "8QekBTJTYE7h",
        "outputId": "c870e29a-19d5-4cd3-b3d3-4fc08c2dedde"
      },
      "execution_count": null,
      "outputs": [
        {
          "output_type": "stream",
          "name": "stdout",
          "text": [
            "[2. 4. 5. 6.]\n",
            "[ 4 16 25 36]\n"
          ]
        }
      ]
    },
    {
      "cell_type": "markdown",
      "source": [
        " **combining and spliting array**"
      ],
      "metadata": {
        "id": "i1EqMdbBN9Ti"
      }
    },
    {
      "cell_type": "code",
      "source": [
        "import numpy as np\n",
        "arr1=np.array([10,20,30,40,50,60])\n",
        "arr2=np.array([60,70,80,90,100,70])\n",
        "print(np.concatenate([arr1,arr2]))"
      ],
      "metadata": {
        "id": "Ow5vuTbcYexh",
        "colab": {
          "base_uri": "https://localhost:8080/"
        },
        "outputId": "6a86870d-5572-4a5d-9db0-f939f42f4bb4"
      },
      "execution_count": 21,
      "outputs": [
        {
          "output_type": "stream",
          "name": "stdout",
          "text": [
            "[ 10  20  30  40  50  60  60  70  80  90 100  70]\n"
          ]
        }
      ]
    },
    {
      "cell_type": "code",
      "source": [
        "print(np.hstack([arr1,arr2]))  #horizontal concatenation"
      ],
      "metadata": {
        "colab": {
          "base_uri": "https://localhost:8080/"
        },
        "id": "j_4WuSxAP-48",
        "outputId": "d11c2119-be2a-4a59-bd75-ab9408671176"
      },
      "execution_count": 22,
      "outputs": [
        {
          "output_type": "stream",
          "name": "stdout",
          "text": [
            "[ 10  20  30  40  50  60  60  70  80  90 100  70]\n"
          ]
        }
      ]
    },
    {
      "cell_type": "code",
      "source": [
        "print(np.vstack([arr1,arr2])) #vertical concatenation"
      ],
      "metadata": {
        "colab": {
          "base_uri": "https://localhost:8080/"
        },
        "id": "50--7hNjRb5A",
        "outputId": "f823411c-d5b3-4f05-d86f-9de8cf3004d3"
      },
      "execution_count": 23,
      "outputs": [
        {
          "output_type": "stream",
          "name": "stdout",
          "text": [
            "[[ 10  20  30  40  50  60]\n",
            " [ 60  70  80  90 100  70]]\n"
          ]
        }
      ]
    },
    {
      "cell_type": "markdown",
      "source": [
        "**example 2**"
      ],
      "metadata": {
        "id": "flaycANuUY73"
      }
    },
    {
      "cell_type": "code",
      "source": [
        "arr1=np.array([[30,40],[50,10]])\n",
        "arr2=np.array([[5,5],[3,3]])\n",
        "print(np.concatenate([arr1,arr2]))"
      ],
      "metadata": {
        "colab": {
          "base_uri": "https://localhost:8080/"
        },
        "id": "1VLY8GI8Tqh5",
        "outputId": "a370e6f7-081e-4031-92b0-d252ebe2db9d"
      },
      "execution_count": 24,
      "outputs": [
        {
          "output_type": "stream",
          "name": "stdout",
          "text": [
            "[[30 40]\n",
            " [50 10]\n",
            " [ 5  5]\n",
            " [ 3  3]]\n"
          ]
        }
      ]
    },
    {
      "cell_type": "code",
      "source": [
        "print(np.hstack([arr1,arr2]))"
      ],
      "metadata": {
        "colab": {
          "base_uri": "https://localhost:8080/"
        },
        "id": "ymZZ4WW9T8_b",
        "outputId": "ac140bf5-2605-4ff4-b465-b1da161a09f6"
      },
      "execution_count": 26,
      "outputs": [
        {
          "output_type": "stream",
          "name": "stdout",
          "text": [
            "[[30 40  5  5]\n",
            " [50 10  3  3]]\n"
          ]
        }
      ]
    },
    {
      "cell_type": "code",
      "source": [
        "print(np.vstack([arr1,arr2]))"
      ],
      "metadata": {
        "colab": {
          "base_uri": "https://localhost:8080/"
        },
        "id": "rYfJBaVOUHV0",
        "outputId": "14d83cde-0bc7-47f2-9b6a-e0c8f8c43564"
      },
      "execution_count": 27,
      "outputs": [
        {
          "output_type": "stream",
          "name": "stdout",
          "text": [
            "[[30 40]\n",
            " [50 10]\n",
            " [ 5  5]\n",
            " [ 3  3]]\n"
          ]
        }
      ]
    },
    {
      "cell_type": "markdown",
      "source": [
        "**Spliting Array**"
      ],
      "metadata": {
        "id": "EdYKNPm1Udm3"
      }
    },
    {
      "cell_type": "code",
      "source": [
        "a=np.array([10,30,40,50,60,70,80])\n",
        "print(np.array_split(a,3))   # 3 show the no of array"
      ],
      "metadata": {
        "colab": {
          "base_uri": "https://localhost:8080/"
        },
        "id": "Oz0hOBZaUjtI",
        "outputId": "77c1799c-89fa-4274-ceaf-f0490f7bbecd"
      },
      "execution_count": 28,
      "outputs": [
        {
          "output_type": "stream",
          "name": "stdout",
          "text": [
            "[array([10, 30, 40]), array([50, 60]), array([70, 80])]\n"
          ]
        }
      ]
    },
    {
      "cell_type": "markdown",
      "source": [
        "**Addding and Removing elements from the array**"
      ],
      "metadata": {
        "id": "-Wy9OozZVjT0"
      }
    },
    {
      "cell_type": "code",
      "source": [
        "arr=np.array([20,30,40,50,60,70,80,90,100])\n",
        "print(np.append(arr,[200,500]))   #append method add element in last index\n",
        "print(np.insert(arr,2,45))    #insert element at specific position(array,index,value)\n",
        "print(np.delete(arr,4))"
      ],
      "metadata": {
        "colab": {
          "base_uri": "https://localhost:8080/"
        },
        "id": "pz3Q82mlVp3F",
        "outputId": "c7c313e0-8125-479d-b558-1df98d389749"
      },
      "execution_count": 35,
      "outputs": [
        {
          "output_type": "stream",
          "name": "stdout",
          "text": [
            "[ 20  30  40  50  60  70  80  90 100 200 500]\n",
            "[ 20  30  45  40  50  60  70  80  90 100]\n",
            "[ 20  30  40  50  70  80  90 100]\n"
          ]
        }
      ]
    },
    {
      "cell_type": "markdown",
      "source": [
        "**Sort ,Filter & Search**"
      ],
      "metadata": {
        "id": "lnpKkZVHYQuB"
      }
    },
    {
      "cell_type": "code",
      "source": [
        "arr=np.array([50,60,30,70,20,10])\n",
        "print(np.sort(arr))"
      ],
      "metadata": {
        "colab": {
          "base_uri": "https://localhost:8080/"
        },
        "id": "9bTLdsKYV9TT",
        "outputId": "4831189e-960e-4620-e84a-ec75dc2a24e4"
      },
      "execution_count": 36,
      "outputs": [
        {
          "output_type": "stream",
          "name": "stdout",
          "text": [
            "[10 20 30 50 60 70]\n"
          ]
        }
      ]
    },
    {
      "cell_type": "code",
      "source": [
        "arr=np.array([[50,60,30,70,20,10],[60,65,43,23,55,66]]) # for 2_D array\n",
        "print(np.sort(arr))"
      ],
      "metadata": {
        "colab": {
          "base_uri": "https://localhost:8080/"
        },
        "id": "Y7IaD5hUYzCg",
        "outputId": "d6925fe0-0d7d-4dbc-f203-ab8e67c4767d"
      },
      "execution_count": 38,
      "outputs": [
        {
          "output_type": "stream",
          "name": "stdout",
          "text": [
            "[[10 20 30 50 60 70]\n",
            " [23 43 55 60 65 66]]\n"
          ]
        }
      ]
    },
    {
      "cell_type": "code",
      "source": [
        "arr=np.array([50,60,30,70,20,10])\n",
        "print(np.where(arr==70))\n",
        "print(np.where(arr % 2==0))"
      ],
      "metadata": {
        "colab": {
          "base_uri": "https://localhost:8080/"
        },
        "id": "VOa6t2OFZA8p",
        "outputId": "943c64dc-526a-451b-95d3-2cd78bc37a9c"
      },
      "execution_count": 43,
      "outputs": [
        {
          "output_type": "stream",
          "name": "stdout",
          "text": [
            "(array([3]),)\n",
            "(array([0, 1, 2, 3, 4, 5]),)\n"
          ]
        }
      ]
    },
    {
      "cell_type": "code",
      "source": [
        "arr=np.array([50,60,30,70,20,10])\n",
        "fltr=[True,False,True,False,True,True]\n",
        "new_arr=arr[fltr]\n",
        "print(new_arr)"
      ],
      "metadata": {
        "colab": {
          "base_uri": "https://localhost:8080/"
        },
        "id": "KCHG3yVwZytJ",
        "outputId": "5c728729-385e-470e-9077-d7055e3eb1b2"
      },
      "execution_count": 47,
      "outputs": [
        {
          "output_type": "stream",
          "name": "stdout",
          "text": [
            "[50 30 20 10]\n"
          ]
        }
      ]
    },
    {
      "cell_type": "code",
      "source": [
        "arr=np.array([50,60,30,70,20,10])       #Filter function(return new arry form existing array)\n",
        "filter= arr<50\n",
        "new_arr=arr[filter]\n",
        "print(new_arr)"
      ],
      "metadata": {
        "colab": {
          "base_uri": "https://localhost:8080/"
        },
        "id": "du7wYj1VbQyY",
        "outputId": "1e55dab2-eb42-4e3f-cdad-4f4106e9baa0"
      },
      "execution_count": 50,
      "outputs": [
        {
          "output_type": "stream",
          "name": "stdout",
          "text": [
            "[30 20 10]\n"
          ]
        }
      ]
    },
    {
      "cell_type": "markdown",
      "source": [
        "**Aggregating Function in Array**"
      ],
      "metadata": {
        "id": "xKLOieTRcqsM"
      }
    },
    {
      "cell_type": "code",
      "source": [
        "arr=np.array([50,60,30,70,20,10])\n",
        "print(np.sum(arr))\n",
        "print(np.max(arr))\n",
        "print(np.min(arr))\n",
        "print(np.size(arr))\n",
        "print(np.mean(arr))\n",
        "print(np.cumsum(arr))   #commulative sum\n",
        "print(np.cumprod(arr))   #commulative product"
      ],
      "metadata": {
        "colab": {
          "base_uri": "https://localhost:8080/"
        },
        "id": "b7indEWncPQ7",
        "outputId": "e33517c3-4335-4bcf-c9f0-8b8fbd89571a"
      },
      "execution_count": 56,
      "outputs": [
        {
          "output_type": "stream",
          "name": "stdout",
          "text": [
            "240\n",
            "70\n",
            "10\n",
            "6\n",
            "40.0\n",
            "[ 50 110 140 210 230 240]\n",
            "[        50       3000      90000    6300000  126000000 1260000000]\n"
          ]
        }
      ]
    },
    {
      "cell_type": "markdown",
      "source": [
        "**Statistical Functions In Array**"
      ],
      "metadata": {
        "id": "hg-qk4aRf-EI"
      }
    },
    {
      "cell_type": "code",
      "source": [
        "import statistics as stats\n",
        "backed_food=[200,300,400,200,30,50,60,60,200,188]\n",
        "print(np.array(backed_food))\n",
        "print(np.mean(backed_food))\n",
        "print(np.median(backed_food))    #median first sort the data and the find the middle value of array\n",
        "print(stats.mode(backed_food))   # most repeated value is called mode\n",
        "print(np.std(backed_food))       # standard Deviation(ap ky point means sy kitny dorr hn )\n",
        "print(np.var(backed_food))       # variance(spread between data points)"
      ],
      "metadata": {
        "colab": {
          "base_uri": "https://localhost:8080/"
        },
        "id": "ovzSR2TQdKsp",
        "outputId": "d2558cd9-edc1-42e2-a2e9-5d4dd1bbec9c"
      },
      "execution_count": 65,
      "outputs": [
        {
          "output_type": "stream",
          "name": "stdout",
          "text": [
            "[200 300 400 200  30  50  60  60 200 188]\n",
            "168.8\n",
            "194.0\n",
            "200\n",
            "114.45942512523816\n",
            "13100.960000000001\n"
          ]
        }
      ]
    },
    {
      "cell_type": "markdown",
      "source": [
        "**Correlation**"
      ],
      "metadata": {
        "id": "2iIS3FCCmgzD"
      }
    },
    {
      "cell_type": "code",
      "source": [
        "price=[300,400,500,150,200,100]\n",
        "sales=[10,4,2,10,8,15]\n",
        "print(np.corrcoef(price,sales))"
      ],
      "metadata": {
        "colab": {
          "base_uri": "https://localhost:8080/"
        },
        "id": "62XFt5kgiuXk",
        "outputId": "2a49794e-71f6-4d73-f461-fe74e8307064"
      },
      "execution_count": 66,
      "outputs": [
        {
          "output_type": "stream",
          "name": "stdout",
          "text": [
            "[[ 1.         -0.91098983]\n",
            " [-0.91098983  1.        ]]\n"
          ]
        }
      ]
    },
    {
      "cell_type": "code",
      "source": [],
      "metadata": {
        "id": "N3U_S65BmerZ"
      },
      "execution_count": null,
      "outputs": []
    }
  ]
}